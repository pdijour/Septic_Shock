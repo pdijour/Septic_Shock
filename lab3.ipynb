{
  "cells": [
    {
      "cell_type": "markdown",
      "metadata": {
        "id": "view-in-github",
        "colab_type": "text"
      },
      "source": [
        "<a href=\"https://colab.research.google.com/github/ds4ph-bme/lab3-pdijour/blob/main/lab3.ipynb\" target=\"_parent\"><img src=\"https://colab.research.google.com/assets/colab-badge.svg\" alt=\"Open In Colab\"/></a>"
      ]
    },
    {
      "cell_type": "markdown",
      "metadata": {
        "id": "aB87u0EPLfWw"
      },
      "source": [
        "# Names (Enter your names below)\n",
        "**Your Name and JHED:** Phoebe Dijour, pdijour1\n",
        "\n",
        "**Partner's Name and JHED (If applicable):**  Kiana Bronder, kbronde1"
      ]
    },
    {
      "cell_type": "markdown",
      "metadata": {
        "id": "yUSjrn5zLfWx"
      },
      "source": [
        "# Lab 3: Prediction of Septic Shock in Patients\n",
        "\n",
        "By **Benjamín Béjar Haro** and edited by **Kwame Kutten** and **Joseph Greenstein**\n",
        "\n",
        "Sepsis is a life-threatening condition caused by an inflammatory immune response to an infection. It is the leading cause of death in hospitals and has a greater risk of mortality in its advanced state, also called *Septic Shock*. Early treatment of Septic Shock can dramatically increase the survival rate. Therefore, a prediction system capable of foreseeing Septic Shock would provide an early intervention window that has the potential to translate into improved patient outcomes. In this lab we look at the problem Septic Shock prediction following the approach described in [Liu et al. 2019](https://doi.org/10.1038/s41598-019-42637-5). Your goal in this lab is to reproduce some of the results in above paper. In particular you will train a a logistic regression model (referred to as GLM in the paper) to predict Septic Shock and will apply it to a test patient dataset."
      ]
    },
    {
      "cell_type": "code",
      "execution_count": 16,
      "metadata": {
        "id": "FObubMDyCtS5"
      },
      "outputs": [],
      "source": [
        "# Import modules\n",
        "import numpy as np\n",
        "import matplotlib.pyplot as plt\n",
        "import pandas as pd\n",
        "import datetime as date\n",
        "from sklearn.linear_model import SGDClassifier\n",
        "from sklearn.metrics import roc_curve, auc\n",
        "from sklearn.model_selection import KFold\n",
        "\n",
        "# Fix random number generator for reproducibility\n",
        "np.random.seed(0)"
      ]
    },
    {
      "cell_type": "markdown",
      "metadata": {
        "id": "EeaOItPULfW7"
      },
      "source": [
        "## Read Data\n",
        "You have been provided with the curated data used in Liu *et al.* which is a subset of the publicly available MIMIC-III database ([Johnson et al. 2016](https://doi.org/10.1038/sdata.2016.35)). The data corresponds to electronic health record data of a large population of patients, and consists of measured values over time for $28$ different features such as, heart rate, blood pressure, respiratory rate, temperature, etc. Each data point represents a particular measurement in time and for a particular patient. The data has been split into training and testing as described in Liu *et al.* and is provided to you in the form of `.csv` files. Inside those files `x` columns correspond to feature values while the `y` column represents the associated label of a particular row of feature values.  Thus $y=0$ means that the patient didn't go into Septic Shock, while a label $y=1$ indicates that the patient eventually went into Septic Shock)."
      ]
    },
    {
      "cell_type": "code",
      "execution_count": 17,
      "metadata": {
        "id": "X5qjY8d9LfW7",
        "colab": {
          "base_uri": "https://localhost:8080/"
        },
        "outputId": "8af553e0-2d7e-4433-f0f9-b56c869e4618"
      },
      "outputs": [
        {
          "output_type": "stream",
          "name": "stdout",
          "text": [
            "Drive already mounted at gdrive/; to attempt to forcibly remount, call drive.mount(\"gdrive/\", force_remount=True).\n"
          ]
        }
      ],
      "source": [
        "#===========================================\n",
        "# Read data. Change path if necessary\n",
        "#===========================================\n",
        "try:\n",
        "    # Executes if running in Google Colab\n",
        "    from google.colab import drive\n",
        "    drive.mount('gdrive/')\n",
        "    path = \"gdrive/My Drive/lab3_data/\" # Change path to location of data if necessary\n",
        "except:\n",
        "    # Executes if running locally (e.g. Anaconda)\n",
        "    path = \"./\"\n",
        "\n",
        "# Read training data\n",
        "traindata = pd.read_csv('/'.join((path,'glm.training.data.csv')))\n",
        "Xtrain = traindata.iloc[:,1:29].values # Rows are patients, columns are clinical indicators\n",
        "ytrain = traindata.iloc[:,-1].values\n",
        "\n",
        "# Read testing data\n",
        "testdata = pd.read_csv('/'.join((path,'glm.test.data.csv')))\n",
        "Xtest = testdata.iloc[:,1:29].values\n",
        "ytest = testdata.iloc[:,-1].values"
      ]
    },
    {
      "cell_type": "markdown",
      "metadata": {
        "id": "CNPyondJLfW8"
      },
      "source": [
        "## 1. Normalize Data [5 points]\n",
        "Normalize the training and test data such that each column has zero mean and unit standard deviation.  Then for both the training and test data use `np.isclose` to verify that the means and standard deviations of the normalized data are correct."
      ]
    },
    {
      "cell_type": "code",
      "execution_count": 18,
      "metadata": {
        "id": "YdwZg2LzETyQ",
        "colab": {
          "base_uri": "https://localhost:8080/"
        },
        "outputId": "6179e8b7-55f6-42eb-f58f-6e19d948a364"
      },
      "outputs": [
        {
          "output_type": "stream",
          "name": "stdout",
          "text": [
            "True\n",
            "True\n",
            "True\n",
            "True\n"
          ]
        }
      ],
      "source": [
        "\"\"\"\n",
        "Write your code here\n",
        "\"\"\"\n",
        "# normalize variables\n",
        "# Xtest = (Xtest - np.mean(Xtest)) / np.std(Xtest)\n",
        "# Xtrain = (Xtrain - np.mean(Xtrain)) / np.std(Xtrain)\n",
        "# ytest = (ytest - np.mean(ytest)) / np.std(ytest)\n",
        "# ytrain = (ytrain - np.mean(ytrain)) / np.std(ytrain)\n",
        "Xtrain -= np.mean(Xtrain, axis=0)\n",
        "Xtrain /= np.std(Xtrain, axis=0)\n",
        "\n",
        "Xtest -= np.mean(Xtest, axis=0)\n",
        "Xtest /= np.std(Xtest, axis=0)\n",
        "\n",
        "# compare SDs\n",
        "print(np.isclose(np.std(Xtest), 1))\n",
        "print(np.isclose(np.std(Xtrain), 1))\n",
        "# print(np.isclose(np.std(ytest), 1))\n",
        "# print(np.isclose(np.std(ytrain), 1))\n",
        "# compare means\n",
        "print(np.isclose(np.mean(Xtest), 0))\n",
        "print(np.isclose(np.mean(Xtrain), 0))\n",
        "# print(np.isclose(np.mean(ytest), 0))\n",
        "# print(np.isclose(np.mean(ytrain), 0))\n",
        "\n",
        "# # convert to binary outcome\n",
        "# med_test = np.median(ytest)\n",
        "# ytest = (ytest > med_test) * 1\n",
        "# med_train = np.median(ytrain)\n",
        "# ytrain = (ytrain > med_train) * 1"
      ]
    },
    {
      "cell_type": "markdown",
      "metadata": {
        "id": "OQoSg5ZOLfW8"
      },
      "source": [
        "## 2. Train Generalized Linear (Logistic Regression) Model [15 points total]\n",
        " * Train a logistic regression model on the normalized data using [Stochastic Gradient Descent](https://en.wikipedia.org/wiki/Stochastic_gradient_descent). You should use the [SGDClassifier](https://scikit-learn.org/stable/modules/generated/sklearn.linear_model.SGDClassifier.html) from `sklearn.linear_model` with a `\"log_loss\"` loss, `\"balanced\"` class weights and a `\"l1\"` lasso penalty.  Specify a value for regularization parameter $\\alpha \\in (0,1]$ [10 points]. \n",
        " * Plot the ROC curve and display the AUC [5 points]."
      ]
    },
    {
      "cell_type": "code",
      "execution_count": 19,
      "metadata": {
        "id": "hf-vBD2kLfW8",
        "colab": {
          "base_uri": "https://localhost:8080/",
          "height": 333
        },
        "outputId": "98759c2e-5d31-4a6b-e984-cf55c37cc831"
      },
      "outputs": [
        {
          "output_type": "stream",
          "name": "stderr",
          "text": [
            "/usr/local/lib/python3.7/dist-packages/ipykernel_launcher.py:20: RuntimeWarning: invalid value encountered in double_scalars\n"
          ]
        },
        {
          "output_type": "display_data",
          "data": {
            "text/plain": [
              "<Figure size 432x288 with 1 Axes>"
            ],
            "image/png": "[encoded data removed]"
          },
          "metadata": {
            "needs_background": "light"
          }
        }
      ],
      "source": [
        "\"\"\"\n",
        "Write your code here\n",
        "\"\"\"\n",
        "# create logistic model\n",
        "model = SGDClassifier(loss='log', penalty='l1', class_weight = 'balanced', alpha = 0.05)\n",
        "model.fit(Xtrain, ytrain)\n",
        "\n",
        "# calculate predicted y\n",
        "ypred = model.predict_proba(Xtrain)\n",
        "\n",
        "# calculate ROC curve\n",
        "fpr, tpr, thresholds = roc_curve(ytrain, ypred[:,1])\n",
        "\n",
        "# Calculate AUC score\n",
        "auc_score = auc(fpr, tpr)\n",
        "\n",
        "# Calculate Operating Point\n",
        "max_operating_pt = 0\n",
        "for i in range(len(fpr)):\n",
        "  proportion = tpr[i]/fpr[i]\n",
        "  if proportion > max_operating_pt:\n",
        "    max_operating_pt = proportion\n",
        "    max_fpr = fpr[i]\n",
        "    max_tpr = tpr[i]\n",
        "\n",
        "# plot\n",
        "plt.figure()\n",
        "lw = 2\n",
        "plt.plot(fpr, tpr, color='darkorange',\n",
        "         lw=lw, label='ROC curve (area = %0.2f)' % auc_score)\n",
        "plt.plot([0, 1], [0, 1], color='navy', lw=lw, linestyle='--')\n",
        "plt.scatter(max_fpr, max_tpr)\n",
        "plt.xlim([-0.05, 1.05])\n",
        "plt.ylim([-0.05, 1.05])\n",
        "plt.xlabel('False Positive Rate')\n",
        "plt.ylabel('True Positive Rate')\n",
        "plt.title('Training Data Accuracy')\n",
        "plt.legend(loc=\"lower right\")\n",
        "plt.show()"
      ]
    },
    {
      "cell_type": "markdown",
      "metadata": {
        "id": "94IPLcmALfW9"
      },
      "source": [
        "## 3. Hyperparameter Tuning [20 points total] \n",
        " * Refine this model by determining an optimal regularization hyperparameter $\\alpha > 0$ which maximizes AUC via **5-fold cross validation** similar to Liu *et al.* You should use [KFold](https://scikit-learn.org/stable/modules/generated/sklearn.model_selection.KFold.html) from `sklearn.model_selection` to split your training dataset into smaller chunks that you feed to the SGDClassifier. Try several values of $\\alpha \\in (0,1]$. To save time you may use a small number of iterations (e.g. 5) in this step for your SGDClassifier [15 points]. \n",
        " * Then display your optimal $\\alpha$ [5 points]"
      ]
    },
    {
      "cell_type": "code",
      "execution_count": 20,
      "metadata": {
        "id": "mA-8a8pELfW9",
        "colab": {
          "base_uri": "https://localhost:8080/"
        },
        "outputId": "70181564-5216-468b-dfa8-83f07b9c39e6"
      },
      "outputs": [
        {
          "output_type": "stream",
          "name": "stdout",
          "text": [
            "0.9350814930697828\n",
            "0.934800016471185\n",
            "0.9333800086078392\n",
            "0.9348519097773814\n",
            "0.9337729803711879\n",
            "0.01\n"
          ]
        }
      ],
      "source": [
        "\"\"\"\n",
        "Write your code here\n",
        "\"\"\"\n",
        "\n",
        "optimal_a_lst = []\n",
        "# Loop through the KFolds\n",
        "kf = KFold(n_splits = 5, shuffle = True)\n",
        "for train_idx, test_idx in kf.split(Xtrain):\n",
        "  X_train_f = Xtrain[train_idx, :]\n",
        "  y_train_f = ytrain[train_idx]\n",
        "  # Loop through different alphas\n",
        "  auc_score_max = 0\n",
        "  for a in np.linspace(0.01,0.1,5):\n",
        "    # Initialize SGD classifier\n",
        "    model = SGDClassifier(loss='log', penalty='l1', class_weight = 'balanced', alpha = a)\n",
        "    # Fit and predict\n",
        "    model.fit(X_train_f, y_train_f)\n",
        "    ypred_kf = model.predict_proba(Xtrain[test_idx, :])\n",
        "\n",
        "    # # Record ROC and AUC\n",
        "    fpr_kf, tpr_kf, thresholds = roc_curve(ytrain[test_idx], ypred_kf[:,1])\n",
        "    auc_score_kf = auc(fpr_kf, tpr_kf)\n",
        "    if auc_score_kf > auc_score_max:\n",
        "      print(auc_score_kf)\n",
        "      auc_score_max = auc_score_kf\n",
        "      optimal_a_ind = a\n",
        "  optimal_a_lst.append(optimal_a_ind)\n",
        "\n",
        "# Determine optimal alpha\n",
        "optimal_a = max(set(optimal_a_lst), key=optimal_a_lst.count)\n",
        "print(optimal_a)"
      ]
    },
    {
      "cell_type": "markdown",
      "metadata": {
        "id": "4XbmAkbBLfW9"
      },
      "source": [
        "## 4. Retrain Model [20 points total]\n",
        " * Retrain your model using your optimal regularization hyperparameter $\\alpha$ from the previous step [5 points].\n",
        " * Plot the ROC curve and display it's AUC [5 points].\n",
        " * Find the **Operating Point** which gives the best TPR and FPR and add it to the plot [5 points].  \n",
        " * Display the training data accuracy at the operating point [5 points]."
      ]
    },
    {
      "cell_type": "code",
      "execution_count": 21,
      "metadata": {
        "id": "gF0RiPNELfW-",
        "colab": {
          "base_uri": "https://localhost:8080/",
          "height": 333
        },
        "outputId": "f8f9fb00-e8c2-4dc9-cfec-b852298383cb"
      },
      "outputs": [
        {
          "output_type": "stream",
          "name": "stderr",
          "text": [
            "/usr/local/lib/python3.7/dist-packages/ipykernel_launcher.py:24: RuntimeWarning: invalid value encountered in double_scalars\n"
          ]
        },
        {
          "output_type": "display_data",
          "data": {
            "text/plain": [
              "<Figure size 432x288 with 1 Axes>"
            ],
            "image/png": "[encoded data removed]"
          },
          "metadata": {
            "needs_background": "light"
          }
        }
      ],
      "source": [
        "\"\"\"\n",
        "Write your code here\n",
        "\"\"\"\n",
        "# Retrain model using optimal alpha\n",
        "# Plot the roc curve n display the auc\n",
        "# Find the operating point\n",
        "\n",
        "# create logistic model\n",
        "model = SGDClassifier(loss='log', penalty='l1', class_weight = 'balanced', alpha = optimal_a)\n",
        "model.fit(Xtrain, ytrain)\n",
        "\n",
        "# calculate predicted y\n",
        "ypred = model.predict_proba(Xtrain)\n",
        "\n",
        "# calculate ROC curve\n",
        "fpr, tpr, thresholds = roc_curve(ytrain, ypred[:,1])\n",
        "\n",
        "# Calculate AUC score\n",
        "auc_score = auc(fpr, tpr)\n",
        "\n",
        "# Calculate Operating Point\n",
        "max_operating_pt = 0\n",
        "for i in range(len(fpr)):\n",
        "  proportion = tpr[i]/fpr[i]\n",
        "  if proportion > max_operating_pt:\n",
        "    max_operating_pt = proportion\n",
        "    max_fpr = fpr[i]\n",
        "    max_tpr = tpr[i]\n",
        "\n",
        "# plot\n",
        "plt.figure()\n",
        "lw = 2\n",
        "plt.plot(fpr, tpr, color='darkorange',\n",
        "         lw=lw, label='ROC curve (area = %0.2f)' % auc_score)\n",
        "plt.plot([0, 1], [0, 1], color='navy', lw=lw, linestyle='--')\n",
        "plt.scatter(max_fpr, max_tpr)\n",
        "plt.xlim([-0.05, 1.05])\n",
        "plt.ylim([-0.05, 1.05])\n",
        "plt.xlabel('False Positive Rate')\n",
        "plt.ylabel('True Positive Rate')\n",
        "plt.title('Training Data Accuracy, alpha={}'.format(optimal_a))\n",
        "plt.legend(loc=\"lower right\")\n",
        "plt.show()"
      ]
    },
    {
      "cell_type": "markdown",
      "metadata": {
        "id": "OY2ICFh6LfW-"
      },
      "source": [
        "## 5. Plot Feature Weights [10 points]\n",
        "The exponentiated coefficients from our model tell us how much each feature is weighted when making a prediction.  Find the weights by exponentiating the coefficients from your model (Get coefficients from the `'coef_` attribute). Plot a bar graph of these weights with their corresponding names.  Your results should be similar to Figure 3 in Liu *et al.*"
      ]
    },
    {
      "cell_type": "code",
      "execution_count": 22,
      "metadata": {
        "id": "8Hl1EMaQLfW-",
        "colab": {
          "base_uri": "https://localhost:8080/",
          "height": 298
        },
        "outputId": "e27f7f27-38df-464c-84ce-13dc46f4e38d"
      },
      "outputs": [
        {
          "output_type": "execute_result",
          "data": {
            "text/plain": [
              "Text(0.5, 1.0, 'Model Coefficients')"
            ]
          },
          "metadata": {},
          "execution_count": 22
        },
        {
          "output_type": "display_data",
          "data": {
            "text/plain": [
              "<Figure size 2880x720 with 1 Axes>"
            ],
            "image/png": "[encoded data removed]"
          },
          "metadata": {
            "needs_background": "light"
          }
        }
      ],
      "source": [
        "featureNames = traindata.iloc[:,1:29].keys() # Names of features\n",
        "\n",
        "\"\"\"\n",
        "Write your code here\n",
        "\"\"\"\n",
        "\n",
        "coeffs = np.absolute(model.coef_[0])\n",
        "\n",
        "plt.figure(figsize=(40,10))\n",
        "plt.bar(featureNames, coeffs)\n",
        "plt.title('Model Coefficients')"
      ]
    },
    {
      "cell_type": "markdown",
      "metadata": {
        "id": "5HVO6pgNLfW-"
      },
      "source": [
        "## 6. Test Model on Patient Data [30 points total]\n",
        " * Use the patient column from the test dataset to determine the number of patients in our test dataset.  Use the test labels to create an array of this size which is $1$ if the patient went into Septic Shock *at any time* during their hospital stay and $0$ otherwise.  We can be certain that a patient went into Septic Shock if their maximum probability (risk score) attained over their hospital stay excedes some operating threshold.  Therefore you should also create a corresponding array which contains these maximum probabilities [15 points].  \n",
        "\n",
        " * Create an ROC curve using these arrays and display the AUC [5 points].\n",
        " * Find operating point and add it to the plot [5 points].\n",
        " * Display the accuracy for test patients at the operating point [5 points]."
      ]
    },
    {
      "cell_type": "code",
      "execution_count": 23,
      "metadata": {
        "id": "NiBw8mWkLfW_",
        "colab": {
          "base_uri": "https://localhost:8080/",
          "height": 333
        },
        "outputId": "917248b2-a1f7-4271-ff0a-aab1ba37830d"
      },
      "outputs": [
        {
          "output_type": "stream",
          "name": "stderr",
          "text": [
            "/usr/local/lib/python3.7/dist-packages/ipykernel_launcher.py:46: RuntimeWarning: invalid value encountered in double_scalars\n"
          ]
        },
        {
          "output_type": "display_data",
          "data": {
            "text/plain": [
              "<Figure size 432x288 with 1 Axes>"
            ],
            "image/png": "[encoded data removed]"
          },
          "metadata": {
            "needs_background": "light"
          }
        }
      ],
      "source": [
        "patientsCol = testdata['patient'].values # Patients column from test dataset\n",
        "\n",
        "\"\"\"\n",
        "Write your code here\n",
        "\"\"\"\n",
        "# take all unique values from patient column\n",
        "# find indices of the unique values, put into a list\n",
        "# probability = predict_proba(x_test) at those indices\n",
        "# ytest at those indices\n",
        "# Get ROC and AUC from ytest and probability\n",
        "\n",
        "patients_idx = []\n",
        "patients = np.unique(patientsCol)\n",
        "# for i in patients:\n",
        "#   # patients_idx.append(np.where(patientsCol == i))\n",
        "#   patients_idx.append(patientsCol.tolist().index(i))\n",
        "\n",
        "ytest_pt = []\n",
        "ypred_max = []\n",
        "\n",
        "ypred = model.predict_proba(Xtest)[:,1]\n",
        "\n",
        "for i in patients:\n",
        "  # find time indices for each unique patient\n",
        "  indices = np.where(patientsCol == i)\n",
        "  # for each pt, find if they went into septic shock during hospital stay\n",
        "  patient = ytest[indices]\n",
        "  if patient.max() == 1:\n",
        "    ytest_pt.append(1)\n",
        "  else:\n",
        "    ytest_pt.append(0)\n",
        "  \n",
        "  # for each pt, find max risk score \n",
        "  ypred_idx = ypred[indices]\n",
        "  ypred_max.append(ypred_idx.max())\n",
        "\n",
        "# calculate ROC curve\n",
        "fpr, tpr, thresholds = roc_curve(ytest_pt, ypred_max)\n",
        "\n",
        "# Calculate AUC score\n",
        "auc_score = auc(fpr, tpr)\n",
        "\n",
        "# Calculate Operating Point\n",
        "max_operating_pt = 0\n",
        "for i in range(len(fpr)):\n",
        "  proportion = tpr[i]/fpr[i]\n",
        "  if proportion > max_operating_pt:\n",
        "    max_operating_pt = proportion\n",
        "    max_fpr = fpr[i]\n",
        "    max_tpr = tpr[i]\n",
        "\n",
        "# plot\n",
        "plt.figure()\n",
        "lw = 2\n",
        "plt.plot(fpr, tpr, color='darkorange',\n",
        "         lw=lw, label='ROC curve (area = %0.2f)' % auc_score)\n",
        "plt.plot([0, 1], [0, 1], color='navy', lw=lw, linestyle='--')\n",
        "plt.scatter(max_fpr, max_tpr)\n",
        "plt.xlim([-0.05, 1.05])\n",
        "plt.ylim([-0.05, 1.05])\n",
        "plt.xlabel('False Positive Rate')\n",
        "plt.ylabel('True Positive Rate')\n",
        "plt.title('Testing Data Accuracy on Real Patient Data')\n",
        "plt.legend(loc=\"lower right\")\n",
        "plt.show()"
      ]
    }
  ],
  "metadata": {
    "colab": {
      "collapsed_sections": [],
      "provenance": [],
      "include_colab_link": true
    },
    "kernelspec": {
      "display_name": "Python 3 (ipykernel)",
      "language": "python",
      "name": "python3"
    },
    "language_info": {
      "codemirror_mode": {
        "name": "ipython",
        "version": 3
      },
      "file_extension": ".py",
      "mimetype": "text/x-python",
      "name": "python",
      "nbconvert_exporter": "python",
      "pygments_lexer": "ipython3",
      "version": "3.10.4"
    }
  },
  "nbformat": 4,
  "nbformat_minor": 0
}